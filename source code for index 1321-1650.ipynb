{
 "cells": [
  {
   "cell_type": "markdown",
   "metadata": {},
   "source": [
    "## Import necessary libraries"
   ]
  },
  {
   "cell_type": "code",
   "execution_count": 2,
   "metadata": {},
   "outputs": [],
   "source": [
    "import yfinance as yf\n",
    "import pandas as pd\n",
    "from datetime import datetime"
   ]
  },
  {
   "cell_type": "markdown",
   "metadata": {},
   "source": [
    "## List of symbols"
   ]
  },
  {
   "cell_type": "code",
   "execution_count": 3,
   "metadata": {},
   "outputs": [],
   "source": [
    "symbols = [\n",
    "    \"RELAXO\", \"RELCHEMQ\", \"RELIABLE\", \"RELIANCE\", \"RELIGARE\", \n",
    "    \"RELINFRA\", \"REMSONSIND\", \"RENUKA\", \"REPCOHOME\", \"REPL\", \"REPRO\", \n",
    "    \"RESPONIND\", \"RETAIL\", \"RGL\", \"RHFL\", \"RHIM\", \"RHL\", \"RICOAUTO\", \n",
    "    \"RIIL\", \"RISHABH\", \"RITCO\", \"RITES\", \"RKDL\", \"RKEC\", \"RKFORGE\", \n",
    "    \"RKSWAMY\", \"RML\", \"ROHLTD\", \"ROLEXRINGS\", \"ROLLT\", \"ROML\", \"ROSSARI\", \n",
    "    \"ROSSELLIND\", \"ROTO\", \"ROUTE\", \"RPGLIFE\", \"RPOWER\", \"RPPINFRA\", \n",
    "    \"RPPL\", \"RPSGVENT\", \"RPTECH\", \"RRKABEL\", \"RSSOFTWARE\", \"RSWM\", \n",
    "    \"RSYSTEMS\", \"RTNINDIA\", \"RTNPOWER\", \"RUBYMILLS\", \"RUCHINFRA\", \"RUCHIRA\", \n",
    "    \"RUPA\", \"RUSHIL\", \"RUSTOMJEE\", \"RVHL\", \"RVNL\", \"S&SPOWER\", \n",
    "    \"SABEVENTS\", \"SABTNL\", \"SADBHAV\", \"SADBHIN\", \"SADHNANIQ\", \"SAFARI\", \n",
    "    \"SAGARDEEP\", \"SAGCEM\", \"SAH\", \"SAHYADRI\", \"SAIL\", \"SAKAR\", \"SAKHTISUG\", \n",
    "    \"SAKSOFT\", \"SAKUMA\", \"SALASAR\", \"SALONA\", \"SALSTEEL\", \"SALZERELEC\", \n",
    "    \"SAMBHAAV\", \"SAMHI\", \"SAMPANN\", \"SANDESH\", \"SANDHAR\", \"SANDUMA\", \n",
    "    \"SANGAMIND\", \"SANGHIIND\", \"SANGHVIMOV\", \"SANGINITA\", \"SANOFI\", \n",
    "    \"SANSERA\", \"SAPPHIRE\", \"SARDAEN\", \"SAREGAMA\", \"SARLAPOLY\", \"SARVESHWAR\", \n",
    "    \"SASKEN\", \"SASTASUNDR\", \"SATIA\", \"SATIN\", \"SATINDLTD\", \"SAURASHCEM\", \n",
    "    \"SBC\", \"SBCL\", \"SBFC\", \"SBGLP\", \"SBICARD\", \"SBILIFE\", \"SBIN\", \n",
    "    \"SCHAEFFLER\", \"SCHAND\", \"SCHNEIDER\", \"SCI\", \"SCILAL\", \"SCPL\", \n",
    "    \"SDBL\", \"SEAMECLTD\", \"SECMARK\", \"SECURCRED\", \"SECURKLOUD\", \"SEJALLTD\", \n",
    "    \"SELAN\", \"SELMC\", \"SEMAC\", \"SENCO\", \"SEPC\", \"SEPC-RE2\", \"SEQUENT\", \n",
    "    \"SERVOTECH\", \"SESHAPAPER\", \"SETCO\", \"SEYAIND\", \"SFL\", \"SGIL\", \n",
    "    \"SGL\", \"SHAH\", \"SHAHALLOYS\", \"SHAILY\", \"SHAKTIPUMP\", \"SHALBY\", \n",
    "    \"SHALPAINTS\", \"SHANKARA\", \"SHANTI\", \"SHANTIGEAR\", \"SHARDACROP\", \n",
    "    \"SHARDAMOTR\", \"SHAREINDIA\", \"SHEMAROO\", \"SHILPAMED\", \"SHIVALIK\", \n",
    "    \"SHIVAMAUTO\", \"SHIVAMILLS\", \"SHIVATEX\", \"SHK\", \"SHOPERSTOP\", \n",
    "    \"SHRADHA\", \"SHREDIGCEM\", \"SHREECEM\", \"SHREEPUSHK\", \"SHREERAMA\", \n",
    "    \"SHRENIK\", \"SHREYANIND\", \"SHREYAS\", \"SHRIPISTON\", \"SHRIRAMFIN\", \n",
    "    \"SHRIRAMPPS\", \"SHYAMCENT\", \"SHYAMMETL\", \"SHYAMTEL\", \"SIEMENS\", \n",
    "    \"SIGACHI\", \"SIGIND\", \"SIGMA\", \"SIGNATURE\", \"SIGNPOST\", \"SIKKO\", \n",
    "    \"SIL\", \"SILGO\", \"SILINV\", \"SILLYMONKS\", \"SILVERTUC\", \"SIMBHALS\", \n",
    "    \"SIMPLEXINF\", \"SINCLAIR\", \"SINDHUTRAD\", \"SINTERCOM\", \"SIRCA\", \n",
    "    \"SIS\", \"SITINET\", \"SIYSIL\", \"SJS\", \"SJVN\", \"SKFINDIA\", \"SKIPPER\", \n",
    "    \"SKMEGGPROD\", \"SKYGOLD\", \"SMARTLINK\", \"SMCGLOBAL\", \"SMLISUZU\", \n",
    "    \"SMLT\", \"SMSLIFE\", \"SMSPHARMA\", \"SNOWMAN\", \"SOBHA\", \"SOFTTECH\", \n",
    "    \"SOLARA\", \"SOLARINDS\", \"SOMANYCERA\", \"SOMATEX\", \"SOMICONVEY\", \n",
    "    \"SONACOMS\", \"SONAMLTD\", \"SONATSOFTW\", \"SOTL\"\n",
    "]"
   ]
  },
  {
   "cell_type": "markdown",
   "metadata": {},
   "source": [
    "## Date range"
   ]
  },
  {
   "cell_type": "code",
   "execution_count": 4,
   "metadata": {},
   "outputs": [],
   "source": [
    "start_date = \"2015-01-01\"\n",
    "end_date = \"2024-06-30\""
   ]
  },
  {
   "cell_type": "markdown",
   "metadata": {},
   "source": [
    "## Function to fetch and save data"
   ]
  },
  {
   "cell_type": "code",
   "execution_count": 7,
   "metadata": {},
   "outputs": [],
   "source": [
    "def fetch_and_save_data(symbol):\n",
    "    ticker = yf.Ticker(symbol + \".NS\")\n",
    "    df = ticker.history(start=start_date, end=end_date)\n",
    "    df = df.drop(columns=[\"Dividends\", \"Stock Splits\"])\n",
    "    df.rename(columns={\"Volume\": \"Total Trades\"}, inplace=True)\n",
    "    df[\"Traded Quantity\"] = df[\"Total Trades\"] * df[\"Close\"]  # This is just an example calculation\n",
    "    df.to_csv(f\"{symbol}.csv\")\n",
    "    print(f\"Data for {symbol} saved to {symbol}.csv\")"
   ]
  },
  {
   "cell_type": "markdown",
   "metadata": {},
   "source": [
    "## Fetch and save data for each symbol"
   ]
  },
  {
   "cell_type": "code",
   "execution_count": null,
   "metadata": {},
   "outputs": [],
   "source": [
    "for symbol in symbols:\n",
    "    fetch_and_save_data(symbol)"
   ]
  }
 ],
 "metadata": {
  "kernelspec": {
   "display_name": "Python 3",
   "language": "python",
   "name": "python3"
  },
  "language_info": {
   "codemirror_mode": {
    "name": "ipython",
    "version": 3
   },
   "file_extension": ".py",
   "mimetype": "text/x-python",
   "name": "python",
   "nbconvert_exporter": "python",
   "pygments_lexer": "ipython3",
   "version": "3.10.1"
  }
 },
 "nbformat": 4,
 "nbformat_minor": 2
}
