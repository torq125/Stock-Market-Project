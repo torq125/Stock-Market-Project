{
 "cells": [
  {
   "cell_type": "markdown",
   "metadata": {},
   "source": [
    "## Import necessary libraries"
   ]
  },
  {
   "cell_type": "code",
   "execution_count": 2,
   "metadata": {},
   "outputs": [],
   "source": [
    "import yfinance as yf\n",
    "import pandas as pd\n",
    "from datetime import datetime"
   ]
  },
  {
   "cell_type": "markdown",
   "metadata": {},
   "source": [
    "## List of symbols"
   ]
  },
  {
   "cell_type": "code",
   "execution_count": 3,
   "metadata": {},
   "outputs": [],
   "source": [
    "symbols = [\n",
    "    \"RELAXO\", \"RELCHEMQ\", \"RELIABLE\", \"RELIANCE\", \"RELIGARE\", \n",
    "    \"RELINFRA\", \"REMSONSIND\", \"RENUKA\", \"REPCOHOME\", \"REPL\", \"REPRO\", \n",
    "    \"RESPONIND\", \"RETAIL\", \"RGL\", \"RHFL\", \"RHIM\", \"RHL\", \"RICOAUTO\", \n",
    "    \"RIIL\", \"RISHABH\", \"RITCO\", \"RITES\", \"RKDL\", \"RKEC\", \"RKFORGE\", \n",
    "    \"RKSWAMY\", \"RML\", \"ROHLTD\", \"ROLEXRINGS\", \"ROLLT\", \"ROML\", \"ROSSARI\", \n",
    "    \"ROSSELLIND\", \"ROTO\", \"ROUTE\", \"RPGLIFE\", \"RPOWER\", \"RPPINFRA\", \n",
    "    \"RPPL\", \"RPSGVENT\", \"RPTECH\", \"RRKABEL\", \"RSSOFTWARE\", \"RSWM\", \n",
    "    \"RSYSTEMS\", \"RTNINDIA\", \"RTNPOWER\", \"RUBYMILLS\", \"RUCHINFRA\", \"RUCHIRA\", \n",
    "    \"RUPA\", \"RUSHIL\", \"RUSTOMJEE\", \"RVHL\", \"RVNL\", \"S&SPOWER\", \n",
    "    \"SABEVENTS\", \"SABTNL\", \"SADBHAV\", \"SADBHIN\", \"SADHNANIQ\", \"SAFARI\", \n",
    "    \"SAGARDEEP\", \"SAGCEM\", \"SAH\", \"SAHYADRI\", \"SAIL\", \"SAKAR\", \"SAKHTISUG\", \n",
    "    \"SAKSOFT\", \"SAKUMA\", \"SALASAR\", \"SALONA\", \"SALSTEEL\", \"SALZERELEC\", \n",
    "    \"SAMBHAAV\", \"SAMHI\", \"SAMPANN\", \"SANDESH\", \"SANDHAR\", \"SANDUMA\", \n",
    "    \"SANGAMIND\", \"SANGHIIND\", \"SANGHVIMOV\", \"SANGINITA\", \"SANOFI\", \n",
    "    \"SANSERA\", \"SAPPHIRE\", \"SARDAEN\", \"SAREGAMA\", \"SARLAPOLY\", \"SARVESHWAR\", \n",
    "    \"SASKEN\", \"SASTASUNDR\", \"SATIA\", \"SATIN\", \"SATINDLTD\", \"SAURASHCEM\", \n",
    "    \"SBC\", \"SBCL\", \"SBFC\", \"SBGLP\", \"SBICARD\", \"SBILIFE\", \"SBIN\", \n",
    "    \"SCHAEFFLER\", \"SCHAND\", \"SCHNEIDER\", \"SCI\", \"SCILAL\", \"SCPL\", \n",
    "    \"SDBL\", \"SEAMECLTD\", \"SECMARK\", \"SECURCRED\", \"SECURKLOUD\", \"SEJALLTD\", \n",
    "    \"SELAN\", \"SELMC\", \"SEMAC\", \"SENCO\", \"SEPC\", \"SEPC-RE2\", \"SEQUENT\", \n",
    "    \"SERVOTECH\", \"SESHAPAPER\", \"SETCO\", \"SEYAIND\", \"SFL\", \"SGIL\", \n",
    "    \"SGL\", \"SHAH\", \"SHAHALLOYS\", \"SHAILY\", \"SHAKTIPUMP\", \"SHALBY\", \n",
    "    \"SHALPAINTS\", \"SHANKARA\", \"SHANTI\", \"SHANTIGEAR\", \"SHARDACROP\", \n",
    "    \"SHARDAMOTR\", \"SHAREINDIA\", \"SHEMAROO\", \"SHILPAMED\", \"SHIVALIK\", \n",
    "    \"SHIVAMAUTO\", \"SHIVAMILLS\", \"SHIVATEX\", \"SHK\", \"SHOPERSTOP\", \n",
    "    \"SHRADHA\", \"SHREDIGCEM\", \"SHREECEM\", \"SHREEPUSHK\", \"SHREERAMA\", \n",
    "    \"SHRENIK\", \"SHREYANIND\", \"SHREYAS\", \"SHRIPISTON\", \"SHRIRAMFIN\", \n",
    "    \"SHRIRAMPPS\", \"SHYAMCENT\", \"SHYAMMETL\", \"SHYAMTEL\", \"SIEMENS\", \n",
    "    \"SIGACHI\", \"SIGIND\", \"SIGMA\", \"SIGNATURE\", \"SIGNPOST\", \"SIKKO\", \n",
    "    \"SIL\", \"SILGO\", \"SILINV\", \"SILLYMONKS\", \"SILVERTUC\", \"SIMBHALS\", \n",
    "    \"SIMPLEXINF\", \"SINCLAIR\", \"SINDHUTRAD\", \"SINTERCOM\", \"SIRCA\", \n",
    "    \"SIS\", \"SITINET\", \"SIYSIL\", \"SJS\", \"SJVN\", \"SKFINDIA\", \"SKIPPER\", \n",
    "    \"SKMEGGPROD\", \"SKYGOLD\", \"SMARTLINK\", \"SMCGLOBAL\", \"SMLISUZU\", \n",
    "    \"SMLT\", \"SMSLIFE\", \"SMSPHARMA\", \"SNOWMAN\", \"SOBHA\", \"SOFTTECH\", \n",
    "    \"SOLARA\", \"SOLARINDS\", \"SOMANYCERA\", \"SOMATEX\", \"SOMICONVEY\", \n",
    "    \"SONACOMS\", \"SONAMLTD\", \"SONATSOFTW\", \"SOTL\"\n",
    "]"
   ]
  },
  {
   "cell_type": "markdown",
   "metadata": {},
   "source": [
    "## Date range"
   ]
  },
  {
   "cell_type": "code",
   "execution_count": 4,
   "metadata": {},
   "outputs": [],
   "source": [
    "start_date = \"2015-01-01\"\n",
    "end_date = \"2024-06-30\""
   ]
  },
  {
   "cell_type": "markdown",
   "metadata": {},
   "source": [
    "## Function to fetch and save data"
   ]
  },
  {
   "cell_type": "code",
   "execution_count": 7,
   "metadata": {},
   "outputs": [],
   "source": [
    "def fetch_and_save_data(symbol):\n",
    "    ticker = yf.Ticker(symbol + \".NS\")\n",
    "    df = ticker.history(start=start_date, end=end_date)\n",
    "    df = df.drop(columns=[\"Dividends\", \"Stock Splits\"])\n",
    "    df.rename(columns={\"Volume\": \"Total Trades\"}, inplace=True)\n",
    "    df[\"Traded Quantity\"] = df[\"Total Trades\"] * df[\"Close\"]  # This is just an example calculation\n",
    "    df.to_csv(f\"{symbol}.csv\")\n",
    "    print(f\"Data for {symbol} saved to {symbol}.csv\")"
   ]
  },
  {
   "cell_type": "markdown",
   "metadata": {},
   "source": [
    "## Fetch and save data for each symbol"
   ]
  },
  {
   "cell_type": "code",
   "execution_count": 8,
   "metadata": {},
   "outputs": [
    {
     "name": "stdout",
     "output_type": "stream",
     "text": [
      "Data for RELAXO saved to RELAXO.csv\n",
      "Data for RELCHEMQ saved to RELCHEMQ.csv\n",
      "Data for RELIABLE saved to RELIABLE.csv\n",
      "Data for RELIANCE saved to RELIANCE.csv\n",
      "Data for RELIGARE saved to RELIGARE.csv\n",
      "Data for RELINFRA saved to RELINFRA.csv\n",
      "Data for REMSONSIND saved to REMSONSIND.csv\n",
      "Data for RENUKA saved to RENUKA.csv\n",
      "Data for REPCOHOME saved to REPCOHOME.csv\n",
      "Data for REPL saved to REPL.csv\n",
      "Data for REPRO saved to REPRO.csv\n",
      "Data for RESPONIND saved to RESPONIND.csv\n",
      "Data for RETAIL saved to RETAIL.csv\n",
      "Data for RGL saved to RGL.csv\n",
      "Data for RHFL saved to RHFL.csv\n",
      "Data for RHIM saved to RHIM.csv\n",
      "Data for RHL saved to RHL.csv\n",
      "Data for RICOAUTO saved to RICOAUTO.csv\n",
      "Data for RIIL saved to RIIL.csv\n",
      "Data for RISHABH saved to RISHABH.csv\n",
      "Data for RITCO saved to RITCO.csv\n",
      "Data for RITES saved to RITES.csv\n",
      "Data for RKDL saved to RKDL.csv\n",
      "Data for RKEC saved to RKEC.csv\n",
      "Data for RKFORGE saved to RKFORGE.csv\n",
      "Data for RKSWAMY saved to RKSWAMY.csv\n",
      "Data for RML saved to RML.csv\n",
      "Data for ROHLTD saved to ROHLTD.csv\n",
      "Data for ROLEXRINGS saved to ROLEXRINGS.csv\n",
      "Data for ROLLT saved to ROLLT.csv\n",
      "Data for ROML saved to ROML.csv\n",
      "Data for ROSSARI saved to ROSSARI.csv\n",
      "Data for ROSSELLIND saved to ROSSELLIND.csv\n",
      "Data for ROTO saved to ROTO.csv\n",
      "Data for ROUTE saved to ROUTE.csv\n",
      "Data for RPGLIFE saved to RPGLIFE.csv\n",
      "Data for RPOWER saved to RPOWER.csv\n",
      "Data for RPPINFRA saved to RPPINFRA.csv\n",
      "Data for RPPL saved to RPPL.csv\n",
      "Data for RPSGVENT saved to RPSGVENT.csv\n",
      "Data for RPTECH saved to RPTECH.csv\n",
      "Data for RRKABEL saved to RRKABEL.csv\n",
      "Data for RSSOFTWARE saved to RSSOFTWARE.csv\n",
      "Data for RSWM saved to RSWM.csv\n",
      "Data for RSYSTEMS saved to RSYSTEMS.csv\n",
      "Data for RTNINDIA saved to RTNINDIA.csv\n",
      "Data for RTNPOWER saved to RTNPOWER.csv\n",
      "Data for RUBYMILLS saved to RUBYMILLS.csv\n",
      "Data for RUCHINFRA saved to RUCHINFRA.csv\n",
      "Data for RUCHIRA saved to RUCHIRA.csv\n",
      "Data for RUPA saved to RUPA.csv\n",
      "Data for RUSHIL saved to RUSHIL.csv\n",
      "Data for RUSTOMJEE saved to RUSTOMJEE.csv\n",
      "Data for RVHL saved to RVHL.csv\n",
      "Data for RVNL saved to RVNL.csv\n",
      "Data for S&SPOWER saved to S&SPOWER.csv\n",
      "Data for SABEVENTS saved to SABEVENTS.csv\n",
      "Data for SABTNL saved to SABTNL.csv\n",
      "Data for SADBHAV saved to SADBHAV.csv\n",
      "Data for SADBHIN saved to SADBHIN.csv\n",
      "Data for SADHNANIQ saved to SADHNANIQ.csv\n",
      "Data for SAFARI saved to SAFARI.csv\n",
      "Data for SAGARDEEP saved to SAGARDEEP.csv\n",
      "Data for SAGCEM saved to SAGCEM.csv\n",
      "Data for SAH saved to SAH.csv\n",
      "Data for SAHYADRI saved to SAHYADRI.csv\n",
      "Data for SAIL saved to SAIL.csv\n",
      "Data for SAKAR saved to SAKAR.csv\n",
      "Data for SAKHTISUG saved to SAKHTISUG.csv\n",
      "Data for SAKSOFT saved to SAKSOFT.csv\n",
      "Data for SAKUMA saved to SAKUMA.csv\n",
      "Data for SALASAR saved to SALASAR.csv\n",
      "Data for SALONA saved to SALONA.csv\n",
      "Data for SALSTEEL saved to SALSTEEL.csv\n",
      "Data for SALZERELEC saved to SALZERELEC.csv\n",
      "Data for SAMBHAAV saved to SAMBHAAV.csv\n",
      "Data for SAMHI saved to SAMHI.csv\n",
      "Data for SAMPANN saved to SAMPANN.csv\n",
      "Data for SANDESH saved to SANDESH.csv\n",
      "Data for SANDHAR saved to SANDHAR.csv\n",
      "Data for SANDUMA saved to SANDUMA.csv\n",
      "Data for SANGAMIND saved to SANGAMIND.csv\n",
      "Data for SANGHIIND saved to SANGHIIND.csv\n",
      "Data for SANGHVIMOV saved to SANGHVIMOV.csv\n",
      "Data for SANGINITA saved to SANGINITA.csv\n",
      "Data for SANOFI saved to SANOFI.csv\n",
      "Data for SANSERA saved to SANSERA.csv\n",
      "Data for SAPPHIRE saved to SAPPHIRE.csv\n",
      "Data for SARDAEN saved to SARDAEN.csv\n",
      "Data for SAREGAMA saved to SAREGAMA.csv\n",
      "Data for SARLAPOLY saved to SARLAPOLY.csv\n",
      "Data for SARVESHWAR saved to SARVESHWAR.csv\n",
      "Data for SASKEN saved to SASKEN.csv\n",
      "Data for SASTASUNDR saved to SASTASUNDR.csv\n",
      "Data for SATIA saved to SATIA.csv\n",
      "Data for SATIN saved to SATIN.csv\n",
      "Data for SATINDLTD saved to SATINDLTD.csv\n",
      "Data for SAURASHCEM saved to SAURASHCEM.csv\n",
      "Data for SBC saved to SBC.csv\n",
      "Data for SBCL saved to SBCL.csv\n",
      "Data for SBFC saved to SBFC.csv\n",
      "Data for SBGLP saved to SBGLP.csv\n",
      "Data for SBICARD saved to SBICARD.csv\n",
      "Data for SBILIFE saved to SBILIFE.csv\n",
      "Data for SBIN saved to SBIN.csv\n",
      "Data for SCHAEFFLER saved to SCHAEFFLER.csv\n",
      "Data for SCHAND saved to SCHAND.csv\n",
      "Data for SCHNEIDER saved to SCHNEIDER.csv\n",
      "Data for SCI saved to SCI.csv\n",
      "Data for SCILAL saved to SCILAL.csv\n",
      "Data for SCPL saved to SCPL.csv\n",
      "Data for SDBL saved to SDBL.csv\n",
      "Data for SEAMECLTD saved to SEAMECLTD.csv\n",
      "Data for SECMARK saved to SECMARK.csv\n",
      "Data for SECURCRED saved to SECURCRED.csv\n",
      "Data for SECURKLOUD saved to SECURKLOUD.csv\n",
      "Data for SEJALLTD saved to SEJALLTD.csv\n",
      "Data for SELAN saved to SELAN.csv\n",
      "Data for SELMC saved to SELMC.csv\n",
      "Data for SEMAC saved to SEMAC.csv\n",
      "Data for SENCO saved to SENCO.csv\n",
      "Data for SEPC saved to SEPC.csv\n"
     ]
    },
    {
     "name": "stderr",
     "output_type": "stream",
     "text": [
      "SEPC-RE2.NS: Period '1mo' is invalid, must be one of ['1d', '5d']\n"
     ]
    },
    {
     "ename": "KeyError",
     "evalue": "\"['Dividends', 'Stock Splits'] not found in axis\"",
     "output_type": "error",
     "traceback": [
      "\u001b[1;31m---------------------------------------------------------------------------\u001b[0m",
      "\u001b[1;31mKeyError\u001b[0m                                  Traceback (most recent call last)",
      "Cell \u001b[1;32mIn[8], line 2\u001b[0m\n\u001b[0;32m      1\u001b[0m \u001b[38;5;28;01mfor\u001b[39;00m symbol \u001b[38;5;129;01min\u001b[39;00m symbols:\n\u001b[1;32m----> 2\u001b[0m     \u001b[43mfetch_and_save_data\u001b[49m\u001b[43m(\u001b[49m\u001b[43msymbol\u001b[49m\u001b[43m)\u001b[49m\n",
      "Cell \u001b[1;32mIn[7], line 4\u001b[0m, in \u001b[0;36mfetch_and_save_data\u001b[1;34m(symbol)\u001b[0m\n\u001b[0;32m      2\u001b[0m ticker \u001b[38;5;241m=\u001b[39m yf\u001b[38;5;241m.\u001b[39mTicker(symbol \u001b[38;5;241m+\u001b[39m \u001b[38;5;124m\"\u001b[39m\u001b[38;5;124m.NS\u001b[39m\u001b[38;5;124m\"\u001b[39m)\n\u001b[0;32m      3\u001b[0m df \u001b[38;5;241m=\u001b[39m ticker\u001b[38;5;241m.\u001b[39mhistory(start\u001b[38;5;241m=\u001b[39mstart_date, end\u001b[38;5;241m=\u001b[39mend_date)\n\u001b[1;32m----> 4\u001b[0m df \u001b[38;5;241m=\u001b[39m \u001b[43mdf\u001b[49m\u001b[38;5;241;43m.\u001b[39;49m\u001b[43mdrop\u001b[49m\u001b[43m(\u001b[49m\u001b[43mcolumns\u001b[49m\u001b[38;5;241;43m=\u001b[39;49m\u001b[43m[\u001b[49m\u001b[38;5;124;43m\"\u001b[39;49m\u001b[38;5;124;43mDividends\u001b[39;49m\u001b[38;5;124;43m\"\u001b[39;49m\u001b[43m,\u001b[49m\u001b[43m \u001b[49m\u001b[38;5;124;43m\"\u001b[39;49m\u001b[38;5;124;43mStock Splits\u001b[39;49m\u001b[38;5;124;43m\"\u001b[39;49m\u001b[43m]\u001b[49m\u001b[43m)\u001b[49m\n\u001b[0;32m      5\u001b[0m df\u001b[38;5;241m.\u001b[39mrename(columns\u001b[38;5;241m=\u001b[39m{\u001b[38;5;124m\"\u001b[39m\u001b[38;5;124mVolume\u001b[39m\u001b[38;5;124m\"\u001b[39m: \u001b[38;5;124m\"\u001b[39m\u001b[38;5;124mTotal Trades\u001b[39m\u001b[38;5;124m\"\u001b[39m}, inplace\u001b[38;5;241m=\u001b[39m\u001b[38;5;28;01mTrue\u001b[39;00m)\n\u001b[0;32m      6\u001b[0m df[\u001b[38;5;124m\"\u001b[39m\u001b[38;5;124mTraded Quantity\u001b[39m\u001b[38;5;124m\"\u001b[39m] \u001b[38;5;241m=\u001b[39m df[\u001b[38;5;124m\"\u001b[39m\u001b[38;5;124mTotal Trades\u001b[39m\u001b[38;5;124m\"\u001b[39m] \u001b[38;5;241m*\u001b[39m df[\u001b[38;5;124m\"\u001b[39m\u001b[38;5;124mClose\u001b[39m\u001b[38;5;124m\"\u001b[39m]  \u001b[38;5;66;03m# This is just an example calculation\u001b[39;00m\n",
      "File \u001b[1;32mc:\\Users\\HP\\AppData\\Local\\Programs\\Python\\Python310\\lib\\site-packages\\pandas\\util\\_decorators.py:311\u001b[0m, in \u001b[0;36mdeprecate_nonkeyword_arguments.<locals>.decorate.<locals>.wrapper\u001b[1;34m(*args, **kwargs)\u001b[0m\n\u001b[0;32m    305\u001b[0m \u001b[38;5;28;01mif\u001b[39;00m \u001b[38;5;28mlen\u001b[39m(args) \u001b[38;5;241m>\u001b[39m num_allow_args:\n\u001b[0;32m    306\u001b[0m     warnings\u001b[38;5;241m.\u001b[39mwarn(\n\u001b[0;32m    307\u001b[0m         msg\u001b[38;5;241m.\u001b[39mformat(arguments\u001b[38;5;241m=\u001b[39marguments),\n\u001b[0;32m    308\u001b[0m         \u001b[38;5;167;01mFutureWarning\u001b[39;00m,\n\u001b[0;32m    309\u001b[0m         stacklevel\u001b[38;5;241m=\u001b[39mstacklevel,\n\u001b[0;32m    310\u001b[0m     )\n\u001b[1;32m--> 311\u001b[0m \u001b[38;5;28;01mreturn\u001b[39;00m func(\u001b[38;5;241m*\u001b[39margs, \u001b[38;5;241m*\u001b[39m\u001b[38;5;241m*\u001b[39mkwargs)\n",
      "File \u001b[1;32mc:\\Users\\HP\\AppData\\Local\\Programs\\Python\\Python310\\lib\\site-packages\\pandas\\core\\frame.py:4956\u001b[0m, in \u001b[0;36mDataFrame.drop\u001b[1;34m(self, labels, axis, index, columns, level, inplace, errors)\u001b[0m\n\u001b[0;32m   4808\u001b[0m \u001b[38;5;129m@deprecate_nonkeyword_arguments\u001b[39m(version\u001b[38;5;241m=\u001b[39m\u001b[38;5;28;01mNone\u001b[39;00m, allowed_args\u001b[38;5;241m=\u001b[39m[\u001b[38;5;124m\"\u001b[39m\u001b[38;5;124mself\u001b[39m\u001b[38;5;124m\"\u001b[39m, \u001b[38;5;124m\"\u001b[39m\u001b[38;5;124mlabels\u001b[39m\u001b[38;5;124m\"\u001b[39m])\n\u001b[0;32m   4809\u001b[0m \u001b[38;5;28;01mdef\u001b[39;00m \u001b[38;5;21mdrop\u001b[39m(\n\u001b[0;32m   4810\u001b[0m     \u001b[38;5;28mself\u001b[39m,\n\u001b[1;32m   (...)\u001b[0m\n\u001b[0;32m   4817\u001b[0m     errors: \u001b[38;5;28mstr\u001b[39m \u001b[38;5;241m=\u001b[39m \u001b[38;5;124m\"\u001b[39m\u001b[38;5;124mraise\u001b[39m\u001b[38;5;124m\"\u001b[39m,\n\u001b[0;32m   4818\u001b[0m ):\n\u001b[0;32m   4819\u001b[0m \u001b[38;5;250m    \u001b[39m\u001b[38;5;124;03m\"\"\"\u001b[39;00m\n\u001b[0;32m   4820\u001b[0m \u001b[38;5;124;03m    Drop specified labels from rows or columns.\u001b[39;00m\n\u001b[0;32m   4821\u001b[0m \n\u001b[1;32m   (...)\u001b[0m\n\u001b[0;32m   4954\u001b[0m \u001b[38;5;124;03m            weight  1.0     0.8\u001b[39;00m\n\u001b[0;32m   4955\u001b[0m \u001b[38;5;124;03m    \"\"\"\u001b[39;00m\n\u001b[1;32m-> 4956\u001b[0m     \u001b[38;5;28;01mreturn\u001b[39;00m \u001b[38;5;28;43msuper\u001b[39;49m\u001b[43m(\u001b[49m\u001b[43m)\u001b[49m\u001b[38;5;241;43m.\u001b[39;49m\u001b[43mdrop\u001b[49m\u001b[43m(\u001b[49m\n\u001b[0;32m   4957\u001b[0m \u001b[43m        \u001b[49m\u001b[43mlabels\u001b[49m\u001b[38;5;241;43m=\u001b[39;49m\u001b[43mlabels\u001b[49m\u001b[43m,\u001b[49m\n\u001b[0;32m   4958\u001b[0m \u001b[43m        \u001b[49m\u001b[43maxis\u001b[49m\u001b[38;5;241;43m=\u001b[39;49m\u001b[43maxis\u001b[49m\u001b[43m,\u001b[49m\n\u001b[0;32m   4959\u001b[0m \u001b[43m        \u001b[49m\u001b[43mindex\u001b[49m\u001b[38;5;241;43m=\u001b[39;49m\u001b[43mindex\u001b[49m\u001b[43m,\u001b[49m\n\u001b[0;32m   4960\u001b[0m \u001b[43m        \u001b[49m\u001b[43mcolumns\u001b[49m\u001b[38;5;241;43m=\u001b[39;49m\u001b[43mcolumns\u001b[49m\u001b[43m,\u001b[49m\n\u001b[0;32m   4961\u001b[0m \u001b[43m        \u001b[49m\u001b[43mlevel\u001b[49m\u001b[38;5;241;43m=\u001b[39;49m\u001b[43mlevel\u001b[49m\u001b[43m,\u001b[49m\n\u001b[0;32m   4962\u001b[0m \u001b[43m        \u001b[49m\u001b[43minplace\u001b[49m\u001b[38;5;241;43m=\u001b[39;49m\u001b[43minplace\u001b[49m\u001b[43m,\u001b[49m\n\u001b[0;32m   4963\u001b[0m \u001b[43m        \u001b[49m\u001b[43merrors\u001b[49m\u001b[38;5;241;43m=\u001b[39;49m\u001b[43merrors\u001b[49m\u001b[43m,\u001b[49m\n\u001b[0;32m   4964\u001b[0m \u001b[43m    \u001b[49m\u001b[43m)\u001b[49m\n",
      "File \u001b[1;32mc:\\Users\\HP\\AppData\\Local\\Programs\\Python\\Python310\\lib\\site-packages\\pandas\\core\\generic.py:4279\u001b[0m, in \u001b[0;36mNDFrame.drop\u001b[1;34m(self, labels, axis, index, columns, level, inplace, errors)\u001b[0m\n\u001b[0;32m   4277\u001b[0m \u001b[38;5;28;01mfor\u001b[39;00m axis, labels \u001b[38;5;129;01min\u001b[39;00m axes\u001b[38;5;241m.\u001b[39mitems():\n\u001b[0;32m   4278\u001b[0m     \u001b[38;5;28;01mif\u001b[39;00m labels \u001b[38;5;129;01mis\u001b[39;00m \u001b[38;5;129;01mnot\u001b[39;00m \u001b[38;5;28;01mNone\u001b[39;00m:\n\u001b[1;32m-> 4279\u001b[0m         obj \u001b[38;5;241m=\u001b[39m \u001b[43mobj\u001b[49m\u001b[38;5;241;43m.\u001b[39;49m\u001b[43m_drop_axis\u001b[49m\u001b[43m(\u001b[49m\u001b[43mlabels\u001b[49m\u001b[43m,\u001b[49m\u001b[43m \u001b[49m\u001b[43maxis\u001b[49m\u001b[43m,\u001b[49m\u001b[43m \u001b[49m\u001b[43mlevel\u001b[49m\u001b[38;5;241;43m=\u001b[39;49m\u001b[43mlevel\u001b[49m\u001b[43m,\u001b[49m\u001b[43m \u001b[49m\u001b[43merrors\u001b[49m\u001b[38;5;241;43m=\u001b[39;49m\u001b[43merrors\u001b[49m\u001b[43m)\u001b[49m\n\u001b[0;32m   4281\u001b[0m \u001b[38;5;28;01mif\u001b[39;00m inplace:\n\u001b[0;32m   4282\u001b[0m     \u001b[38;5;28mself\u001b[39m\u001b[38;5;241m.\u001b[39m_update_inplace(obj)\n",
      "File \u001b[1;32mc:\\Users\\HP\\AppData\\Local\\Programs\\Python\\Python310\\lib\\site-packages\\pandas\\core\\generic.py:4323\u001b[0m, in \u001b[0;36mNDFrame._drop_axis\u001b[1;34m(self, labels, axis, level, errors, consolidate, only_slice)\u001b[0m\n\u001b[0;32m   4321\u001b[0m         new_axis \u001b[38;5;241m=\u001b[39m axis\u001b[38;5;241m.\u001b[39mdrop(labels, level\u001b[38;5;241m=\u001b[39mlevel, errors\u001b[38;5;241m=\u001b[39merrors)\n\u001b[0;32m   4322\u001b[0m     \u001b[38;5;28;01melse\u001b[39;00m:\n\u001b[1;32m-> 4323\u001b[0m         new_axis \u001b[38;5;241m=\u001b[39m \u001b[43maxis\u001b[49m\u001b[38;5;241;43m.\u001b[39;49m\u001b[43mdrop\u001b[49m\u001b[43m(\u001b[49m\u001b[43mlabels\u001b[49m\u001b[43m,\u001b[49m\u001b[43m \u001b[49m\u001b[43merrors\u001b[49m\u001b[38;5;241;43m=\u001b[39;49m\u001b[43merrors\u001b[49m\u001b[43m)\u001b[49m\n\u001b[0;32m   4324\u001b[0m     indexer \u001b[38;5;241m=\u001b[39m axis\u001b[38;5;241m.\u001b[39mget_indexer(new_axis)\n\u001b[0;32m   4326\u001b[0m \u001b[38;5;66;03m# Case for non-unique axis\u001b[39;00m\n\u001b[0;32m   4327\u001b[0m \u001b[38;5;28;01melse\u001b[39;00m:\n",
      "File \u001b[1;32mc:\\Users\\HP\\AppData\\Local\\Programs\\Python\\Python310\\lib\\site-packages\\pandas\\core\\indexes\\base.py:6644\u001b[0m, in \u001b[0;36mIndex.drop\u001b[1;34m(self, labels, errors)\u001b[0m\n\u001b[0;32m   6642\u001b[0m \u001b[38;5;28;01mif\u001b[39;00m mask\u001b[38;5;241m.\u001b[39many():\n\u001b[0;32m   6643\u001b[0m     \u001b[38;5;28;01mif\u001b[39;00m errors \u001b[38;5;241m!=\u001b[39m \u001b[38;5;124m\"\u001b[39m\u001b[38;5;124mignore\u001b[39m\u001b[38;5;124m\"\u001b[39m:\n\u001b[1;32m-> 6644\u001b[0m         \u001b[38;5;28;01mraise\u001b[39;00m \u001b[38;5;167;01mKeyError\u001b[39;00m(\u001b[38;5;124mf\u001b[39m\u001b[38;5;124m\"\u001b[39m\u001b[38;5;132;01m{\u001b[39;00m\u001b[38;5;28mlist\u001b[39m(labels[mask])\u001b[38;5;132;01m}\u001b[39;00m\u001b[38;5;124m not found in axis\u001b[39m\u001b[38;5;124m\"\u001b[39m)\n\u001b[0;32m   6645\u001b[0m     indexer \u001b[38;5;241m=\u001b[39m indexer[\u001b[38;5;241m~\u001b[39mmask]\n\u001b[0;32m   6646\u001b[0m \u001b[38;5;28;01mreturn\u001b[39;00m \u001b[38;5;28mself\u001b[39m\u001b[38;5;241m.\u001b[39mdelete(indexer)\n",
      "\u001b[1;31mKeyError\u001b[0m: \"['Dividends', 'Stock Splits'] not found in axis\""
     ]
    }
   ],
   "source": [
    "for symbol in symbols:\n",
    "    fetch_and_save_data(symbol)"
   ]
  }
 ],
 "metadata": {
  "kernelspec": {
   "display_name": "Python 3",
   "language": "python",
   "name": "python3"
  },
  "language_info": {
   "codemirror_mode": {
    "name": "ipython",
    "version": 3
   },
   "file_extension": ".py",
   "mimetype": "text/x-python",
   "name": "python",
   "nbconvert_exporter": "python",
   "pygments_lexer": "ipython3",
   "version": "3.10.1"
  }
 },
 "nbformat": 4,
 "nbformat_minor": 2
}
