{
 "cells": [
  {
   "cell_type": "code",
   "execution_count": 1,
   "metadata": {},
   "outputs": [],
   "source": [
    "import requests\n",
    "import pandas as pd\n",
    "import io\n",
    "\n",
    "nse_url = \"https://nsearchives.nseindia.com/content/equities/EQUITY_L.csv\"\n",
    "\n",
    "# create Session from 'real' browser\n",
    "headers = {\n",
    "    'User-Agent': 'Mozilla/5.0'\n",
    "}\n",
    "\n",
    "s = requests.Session()\n",
    "s.headers.update(headers)\n",
    "\n",
    "# do a get call now\n",
    "url = 'https://nsearchives.nseindia.com/content/equities/EQUITY_L.csv'\n",
    "r = s.get(nse_url)\n",
    "s.close()\n",
    "\n",
    "# saving it to pd df for further preprocessing\n",
    "df_nse = pd.read_csv(io.BytesIO(r.content))"
   ]
  },
  {
   "cell_type": "code",
   "execution_count": 7,
   "metadata": {},
   "outputs": [
    {
     "data": {
      "text/html": [
       "<div>\n",
       "<style scoped>\n",
       "    .dataframe tbody tr th:only-of-type {\n",
       "        vertical-align: middle;\n",
       "    }\n",
       "\n",
       "    .dataframe tbody tr th {\n",
       "        vertical-align: top;\n",
       "    }\n",
       "\n",
       "    .dataframe thead th {\n",
       "        text-align: right;\n",
       "    }\n",
       "</style>\n",
       "<table border=\"1\" class=\"dataframe\">\n",
       "  <thead>\n",
       "    <tr style=\"text-align: right;\">\n",
       "      <th></th>\n",
       "      <th>SYMBOL</th>\n",
       "      <th>NAME OF COMPANY</th>\n",
       "      <th>SERIES</th>\n",
       "      <th>DATE OF LISTING</th>\n",
       "      <th>PAID UP VALUE</th>\n",
       "      <th>MARKET LOT</th>\n",
       "      <th>ISIN NUMBER</th>\n",
       "      <th>FACE VALUE</th>\n",
       "    </tr>\n",
       "  </thead>\n",
       "  <tbody>\n",
       "    <tr>\n",
       "      <th>0</th>\n",
       "      <td>20MICRONS</td>\n",
       "      <td>20 Microns Limited</td>\n",
       "      <td>EQ</td>\n",
       "      <td>06-OCT-2008</td>\n",
       "      <td>5</td>\n",
       "      <td>1</td>\n",
       "      <td>INE144J01027</td>\n",
       "      <td>5</td>\n",
       "    </tr>\n",
       "    <tr>\n",
       "      <th>1</th>\n",
       "      <td>21STCENMGM</td>\n",
       "      <td>21st Century Management Services Limited</td>\n",
       "      <td>BE</td>\n",
       "      <td>03-MAY-1995</td>\n",
       "      <td>10</td>\n",
       "      <td>1</td>\n",
       "      <td>INE253B01015</td>\n",
       "      <td>10</td>\n",
       "    </tr>\n",
       "    <tr>\n",
       "      <th>2</th>\n",
       "      <td>360ONE</td>\n",
       "      <td>360 ONE WAM LIMITED</td>\n",
       "      <td>EQ</td>\n",
       "      <td>19-SEP-2019</td>\n",
       "      <td>1</td>\n",
       "      <td>1</td>\n",
       "      <td>INE466L01038</td>\n",
       "      <td>1</td>\n",
       "    </tr>\n",
       "    <tr>\n",
       "      <th>3</th>\n",
       "      <td>3IINFOLTD</td>\n",
       "      <td>3i Infotech Limited</td>\n",
       "      <td>EQ</td>\n",
       "      <td>22-OCT-2021</td>\n",
       "      <td>10</td>\n",
       "      <td>1</td>\n",
       "      <td>INE748C01038</td>\n",
       "      <td>10</td>\n",
       "    </tr>\n",
       "    <tr>\n",
       "      <th>4</th>\n",
       "      <td>3MINDIA</td>\n",
       "      <td>3M India Limited</td>\n",
       "      <td>EQ</td>\n",
       "      <td>13-AUG-2004</td>\n",
       "      <td>10</td>\n",
       "      <td>1</td>\n",
       "      <td>INE470A01017</td>\n",
       "      <td>10</td>\n",
       "    </tr>\n",
       "  </tbody>\n",
       "</table>\n",
       "</div>"
      ],
      "text/plain": [
       "       SYMBOL                           NAME OF COMPANY  SERIES  \\\n",
       "0   20MICRONS                        20 Microns Limited      EQ   \n",
       "1  21STCENMGM  21st Century Management Services Limited      BE   \n",
       "2      360ONE                       360 ONE WAM LIMITED      EQ   \n",
       "3   3IINFOLTD                       3i Infotech Limited      EQ   \n",
       "4     3MINDIA                          3M India Limited      EQ   \n",
       "\n",
       "   DATE OF LISTING   PAID UP VALUE   MARKET LOT   ISIN NUMBER   FACE VALUE  \n",
       "0      06-OCT-2008               5            1  INE144J01027            5  \n",
       "1      03-MAY-1995              10            1  INE253B01015           10  \n",
       "2      19-SEP-2019               1            1  INE466L01038            1  \n",
       "3      22-OCT-2021              10            1  INE748C01038           10  \n",
       "4      13-AUG-2004              10            1  INE470A01017           10  "
      ]
     },
     "execution_count": 7,
     "metadata": {},
     "output_type": "execute_result"
    }
   ],
   "source": [
    "df_nse.head()"
   ]
  },
  {
   "cell_type": "code",
   "execution_count": 9,
   "metadata": {},
   "outputs": [],
   "source": [
    "new_df = df_nse[[\"SYMBOL\", \"NAME OF COMPANY\"]]\n"
   ]
  },
  {
   "cell_type": "code",
   "execution_count": 10,
   "metadata": {},
   "outputs": [
    {
     "data": {
      "text/html": [
       "<div>\n",
       "<style scoped>\n",
       "    .dataframe tbody tr th:only-of-type {\n",
       "        vertical-align: middle;\n",
       "    }\n",
       "\n",
       "    .dataframe tbody tr th {\n",
       "        vertical-align: top;\n",
       "    }\n",
       "\n",
       "    .dataframe thead th {\n",
       "        text-align: right;\n",
       "    }\n",
       "</style>\n",
       "<table border=\"1\" class=\"dataframe\">\n",
       "  <thead>\n",
       "    <tr style=\"text-align: right;\">\n",
       "      <th></th>\n",
       "      <th>SYMBOL</th>\n",
       "      <th>NAME OF COMPANY</th>\n",
       "    </tr>\n",
       "  </thead>\n",
       "  <tbody>\n",
       "    <tr>\n",
       "      <th>0</th>\n",
       "      <td>20MICRONS</td>\n",
       "      <td>20 Microns Limited</td>\n",
       "    </tr>\n",
       "    <tr>\n",
       "      <th>1</th>\n",
       "      <td>21STCENMGM</td>\n",
       "      <td>21st Century Management Services Limited</td>\n",
       "    </tr>\n",
       "    <tr>\n",
       "      <th>2</th>\n",
       "      <td>360ONE</td>\n",
       "      <td>360 ONE WAM LIMITED</td>\n",
       "    </tr>\n",
       "    <tr>\n",
       "      <th>3</th>\n",
       "      <td>3IINFOLTD</td>\n",
       "      <td>3i Infotech Limited</td>\n",
       "    </tr>\n",
       "    <tr>\n",
       "      <th>4</th>\n",
       "      <td>3MINDIA</td>\n",
       "      <td>3M India Limited</td>\n",
       "    </tr>\n",
       "  </tbody>\n",
       "</table>\n",
       "</div>"
      ],
      "text/plain": [
       "       SYMBOL                           NAME OF COMPANY\n",
       "0   20MICRONS                        20 Microns Limited\n",
       "1  21STCENMGM  21st Century Management Services Limited\n",
       "2      360ONE                       360 ONE WAM LIMITED\n",
       "3   3IINFOLTD                       3i Infotech Limited\n",
       "4     3MINDIA                          3M India Limited"
      ]
     },
     "execution_count": 10,
     "metadata": {},
     "output_type": "execute_result"
    }
   ],
   "source": [
    "new_df.head()"
   ]
  },
  {
   "cell_type": "code",
   "execution_count": 11,
   "metadata": {},
   "outputs": [],
   "source": [
    "new_df.to_csv(\"NSE_companyList/NSE_securities.csv\", index=False)"
   ]
  },
  {
   "cell_type": "code",
   "execution_count": null,
   "metadata": {},
   "outputs": [],
   "source": []
  }
 ],
 "metadata": {
  "kernelspec": {
   "display_name": "Python 3",
   "language": "python",
   "name": "python3"
  },
  "language_info": {
   "codemirror_mode": {
    "name": "ipython",
    "version": 3
   },
   "file_extension": ".py",
   "mimetype": "text/x-python",
   "name": "python",
   "nbconvert_exporter": "python",
   "pygments_lexer": "ipython3",
   "version": "3.10.13"
  }
 },
 "nbformat": 4,
 "nbformat_minor": 2
}
