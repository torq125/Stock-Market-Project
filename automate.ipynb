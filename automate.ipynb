{
 "cells": [
  {
   "cell_type": "markdown",
   "metadata": {},
   "source": [
    "# Scraping Data of Compnaies From index 1 to 660 , 1321 to 2310, 2971 to 3300, 3961 to 4290"
   ]
  },
  {
   "cell_type": "code",
   "execution_count": 1,
   "metadata": {},
   "outputs": [],
   "source": [
    "import pandas as pd"
   ]
  },
  {
   "cell_type": "markdown",
   "metadata": {},
   "source": [
    "# Extracting Reuqired Company Codes"
   ]
  },
  {
   "cell_type": "code",
   "execution_count": 2,
   "metadata": {},
   "outputs": [
    {
     "data": {
      "text/plain": [
       "2310"
      ]
     },
     "execution_count": 2,
     "metadata": {},
     "output_type": "execute_result"
    }
   ],
   "source": [
    "df = pd.read_csv(\"BSE_Securities_List.csv\")\n",
    "company_list = []\n",
    "\n",
    "company_list.extend(list(df.loc[1:660, 'Security Code'].values))\n",
    "company_list.extend(list(df.loc[1321:2310, 'Security Code'].values))\n",
    "company_list.extend(list(df.loc[2971:3300, 'Security Code'].values))\n",
    "company_list.extend(list(df.loc[3961:4290, 'Security Code'].values))\n",
    "len(company_list)"
   ]
  },
  {
   "cell_type": "markdown",
   "metadata": {},
   "source": [
    "# Scraping Data using pyautogui"
   ]
  },
  {
   "cell_type": "code",
   "execution_count": 25,
   "metadata": {},
   "outputs": [],
   "source": [
    "import pyautogui as auto\n",
    "import time\n",
    "\n",
    "for i in range(2065):  #4375\n",
    "    auto.click(x=1271, y=1053)\n",
    "    time.sleep(0.5)\n",
    "    auto.hotkey('ctrl', 'c')\n",
    "    time.sleep(0.5)\n",
    "    auto.press('down')\n",
    "    time.sleep(0.5)\n",
    "    auto.click(x=1163, y=1053)\n",
    "    time.sleep(0.5)\n",
    "    auto.click(x=211, y=597)\n",
    "    time.sleep(0.5)\n",
    "    auto.hotkey('ctrl', 'a')\n",
    "    time.sleep(2)\n",
    "    auto.hotkey('ctrl', 'v')\n",
    "    time.sleep(1)\n",
    "    auto.click(x=194, y=640)\n",
    "    time.sleep(0.80)\n",
    "    auto.click(x=255, y=867)\n",
    "    time.sleep(0.5)\n",
    "    #auto.scroll(-300)\n",
    "    time.sleep(0.5)\n",
    "    #auto.click(x=259, y=779)\n",
    "    #time.sleep(2)\n",
    "    auto.click(x=1881, y=430)\n",
    "    time.sleep(0.5)\n",
    "    \n",
    "  "
   ]
  },
  {
   "cell_type": "markdown",
   "metadata": {},
   "source": [
    "# Merging Data"
   ]
  },
  {
   "cell_type": "code",
   "execution_count": null,
   "metadata": {},
   "outputs": [],
   "source": [
    "import pandas as pd\n",
    "import os\n",
    "\n",
    "my_company_list = []\n",
    "my_company_list.extend(list(df.loc[2971:3300, 'Security Code'].values))\n",
    "my_company_list.extend(list(df.loc[3961:4290, 'Security Code'].values))\n",
    "\n",
    "#print((my_company_list))\n",
    "\n",
    "def load_data(data_path, columns=None):\n",
    "    try:\n",
    "        data = pd.read_csv(data_path)\n",
    "        if data.empty:\n",
    "            print(f\"Warning: {data_path} is empty.\")\n",
    "            return None\n",
    "        if columns:\n",
    "            missing_columns = [col for col in columns if col not in data.columns]\n",
    "            if missing_columns:\n",
    "                print(f\"Warning: Missing columns {missing_columns} in file {data_path}\")\n",
    "            data = data[[col for col in columns if col in data.columns]]\n",
    "        return data\n",
    "    except pd.errors.EmptyDataError:\n",
    "        print(f\"Warning: {data_path} is empty and will be skipped.\")\n",
    "        return None\n",
    "\n",
    "data_paths = [f for f in os.listdir(\"./Temp data\") if f.endswith('.csv')]\n",
    "\n",
    "specific_columns = ['Date', 'Open Price', 'High Price', 'Low Price', 'Close Price', 'No.of Shares', 'No. of Trades']\n",
    "\n",
    "data_frames = []\n",
    "for data_path in data_paths:\n",
    "    \n",
    "    data = load_data(os.path.join(\"./Temp data\", data_path), columns=specific_columns)\n",
    "    # Filename is like 500002.csv\n",
    "    if data is not None:\n",
    "        data['Security Code'] = data_path.split('.')[0]\n",
    "        data_frames.append(data)\n",
    "    \n",
    "\n",
    "if data_frames:\n",
    "    new_df = pd.concat(data_frames, ignore_index=True)\n",
    "    new_df.to_csv(\"./Complete_data.csv\", index=False)\n",
    "    print(f\"Combined data has {len(new_df)} rows.\")\n",
    "else:\n",
    "    print(\"No data to concatenate.\")"
   ]
  }
 ],
 "metadata": {
  "kernelspec": {
   "display_name": "Python 3",
   "language": "python",
   "name": "python3"
  },
  "language_info": {
   "codemirror_mode": {
    "name": "ipython",
    "version": 3
   },
   "file_extension": ".py",
   "mimetype": "text/x-python",
   "name": "python",
   "nbconvert_exporter": "python",
   "pygments_lexer": "ipython3",
   "version": "3.12.2"
  }
 },
 "nbformat": 4,
 "nbformat_minor": 2
}
