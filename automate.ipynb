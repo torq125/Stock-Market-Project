{
 "cells": [
  {
   "cell_type": "markdown",
   "metadata": {},
   "source": [
    "# Scraping Data of Compnaies From index 1 to 660 , 1321 to 2310, 2971 to 3300, 3961 to 4290"
   ]
  },
  {
   "cell_type": "code",
   "execution_count": 1,
   "metadata": {},
   "outputs": [],
   "source": [
    "import pandas as pd"
   ]
  },
  {
   "cell_type": "markdown",
   "metadata": {},
   "source": [
    "# Extracting Reuqired Company Codes"
   ]
  },
  {
   "cell_type": "code",
   "execution_count": 2,
   "metadata": {},
   "outputs": [
    {
     "data": {
      "text/plain": [
       "2310"
      ]
     },
     "execution_count": 2,
     "metadata": {},
     "output_type": "execute_result"
    }
   ],
   "source": [
    "df = pd.read_csv(\"BSE_Securities_List.csv\")\n",
    "company_list = []\n",
    "\n",
    "company_list.extend(list(df.loc[1:660, 'Security Code'].values))\n",
    "company_list.extend(list(df.loc[1321:2310, 'Security Code'].values))\n",
    "company_list.extend(list(df.loc[2971:3300, 'Security Code'].values))\n",
    "company_list.extend(list(df.loc[3961:4290, 'Security Code'].values))\n",
    "len(company_list)"
   ]
  },
  {
   "cell_type": "markdown",
   "metadata": {},
   "source": [
    "# Scraping Data using pyautogui"
   ]
  },
  {
   "cell_type": "code",
   "execution_count": 25,
   "metadata": {},
   "outputs": [],
   "source": [
    "import pyautogui as auto\n",
    "import time\n",
    "\n",
    "for i in range(2065):  #4375\n",
    "    auto.click(x=1271, y=1053)\n",
    "    time.sleep(0.5)\n",
    "    auto.hotkey('ctrl', 'c')\n",
    "    time.sleep(0.5)\n",
    "    auto.press('down')\n",
    "    time.sleep(0.5)\n",
    "    auto.click(x=1163, y=1053)\n",
    "    time.sleep(0.5)\n",
    "    auto.click(x=211, y=597)\n",
    "    time.sleep(0.5)\n",
    "    auto.hotkey('ctrl', 'a')\n",
    "    time.sleep(2)\n",
    "    auto.hotkey('ctrl', 'v')\n",
    "    time.sleep(1)\n",
    "    auto.click(x=194, y=640)\n",
    "    time.sleep(0.80)\n",
    "    auto.click(x=255, y=867)\n",
    "    time.sleep(0.5)\n",
    "    #auto.scroll(-300)\n",
    "    time.sleep(0.5)\n",
    "    #auto.click(x=259, y=779)\n",
    "    #time.sleep(2)\n",
    "    auto.click(x=1881, y=430)\n",
    "    time.sleep(0.5)\n",
    "    \n",
    "  "
   ]
  }
 ],
 "metadata": {
  "kernelspec": {
   "display_name": "Python 3",
   "language": "python",
   "name": "python3"
  },
  "language_info": {
   "codemirror_mode": {
    "name": "ipython",
    "version": 3
   },
   "file_extension": ".py",
   "mimetype": "text/x-python",
   "name": "python",
   "nbconvert_exporter": "python",
   "pygments_lexer": "ipython3",
   "version": "3.12.2"
  }
 },
 "nbformat": 4,
 "nbformat_minor": 2
}
